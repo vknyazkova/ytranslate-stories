{
 "cells": [
  {
   "cell_type": "code",
   "execution_count": 1,
   "id": "560a642c",
   "metadata": {},
   "outputs": [],
   "source": [
    "import requests, re, bs4"
   ]
  },
  {
   "cell_type": "code",
   "execution_count": 2,
   "id": "fc14a8e4",
   "metadata": {},
   "outputs": [],
   "source": [
    "class QuizletParser3:\n",
    "    \"\"\"\n",
    "    Parser for https://quizlet.com/\n",
    "    :param url: url for your study set\n",
    "    \"\"\"\n",
    "    HEADERS = {\n",
    "        'accept': 'text/html,application/xhtml+xml,application/xml;q=0.9,image/webp,image/apng,*/*;q=0.8,application/signed-exchange;v=b3',\n",
    "        'accept-encoding': 'gzip, deflate, br',\n",
    "        'accept-language': 'en-US,en;q=0.9',\n",
    "        'cache-control': 'max-age=0',\n",
    "        'cookie': 'yourcookie',\n",
    "        'sec-fetch-mode': 'navigate',\n",
    "        'sec-fetch-site': 'none',\n",
    "        'sec-fetch-user': '?1',\n",
    "        'upgrade-insecure-requests': '1',\n",
    "        'user-agent': 'Mozilla/5.0 (X11; CrOS x86_64 12239.92.0) AppleWebKit/537.36 (KHTML, like Gecko) Chrome/76.0.3809.136 Safari/537.36',\n",
    "    }\n",
    "\n",
    "    def __init__(self, url: str) -> None:\n",
    "        self.max_length = None\n",
    "        self.htmlflashcards = None\n",
    "        self.transl_parser = None\n",
    "        self.phrase_parser = None\n",
    "        self.flashcards = []\n",
    "        self.url = url\n",
    "        self.dropped = []\n",
    "\n",
    "    def parse_page_(self) -> None:\n",
    "        raw_site_page = requests.get(self.url, headers=self.HEADERS)\n",
    "        raw_site_page.raise_for_status()\n",
    "        soup = bs4.BeautifulSoup(raw_site_page.text, 'html.parser')\n",
    "        # print(soup)\n",
    "        self.htmlflashcards = soup.find_all(class_='SetPageTerms-term')\n",
    "\n",
    "    def parse_flashcard_(self, htmlcard):\n",
    "        soup = bs4.BeautifulSoup(str(htmlcard), 'html.parser')\n",
    "        sides = soup.find_all(class_='SetPageTerm-sideContent')\n",
    "        if self.phrase_parser:\n",
    "            phrase = self.phrase_parser(sides[0].text)\n",
    "        else:\n",
    "            phrase = sides[0].text\n",
    "        if self.transl_parser:\n",
    "            meaning, liter_transl = self.transl_parser(sides[1].text)\n",
    "        else:\n",
    "            meaning = sides[1].text\n",
    "            liter_transl = self.translate_(phrase)\n",
    "        iso_lang = sides[0].span['class'][-1].split('-')[-1] + '-' + sides[1].span['class'][-1].split('-')[-1]\n",
    "        return phrase, meaning, iso_lang, liter_transl\n",
    "\n",
    "    def translate_(self, phrase: str) -> str:\n",
    "        return ''\n",
    "\n",
    "    def get_flashcards(self, max_length=30, transl_parser=None, phrase_parser=None) -> None:\n",
    "        self.max_length = max_length\n",
    "        self.parse_page_()\n",
    "        self.transl_parser = transl_parser\n",
    "        self.phrase_parser = phrase_parser\n",
    "        for card in self.htmlflashcards:\n",
    "            phrase, meaning, iso_lang, literal_transl = self.parse_flashcard_(htmlcard=card)\n",
    "            if (len(meaning) <= self.max_length) and (len(phrase) <= self.max_length):\n",
    "                self.flashcards.append({'phrase': phrase,\n",
    "                                    'meaning': meaning,\n",
    "                                    'iso_lang': iso_lang,\n",
    "                                    'literal_transl': literal_transl, })\n",
    "            else:\n",
    "                self.dropped.append({'phrase': phrase,\n",
    "                                    'meaning': meaning,\n",
    "                                    'iso_lang': iso_lang,\n",
    "                                    'literal_transl': literal_transl, })\n",
    "        return self.flashcards"
   ]
  },
  {
   "cell_type": "code",
   "execution_count": 3,
   "id": "7d2cb234",
   "metadata": {},
   "outputs": [],
   "source": [
    "import gspread\n",
    "def gsheets_writer(flashcards:dict, sheetname:str):\n",
    "    gc = gspread.service_account(filename='yandex-translator-stories-0bec25d5f8ae.json')\n",
    "    sh = gc.open(\"Yandex-translator-stories\")\n",
    "    to_write = [[card['iso_lang'], card['phrase'], card['meaning'], card['literal_transl']] for card in flashcards]\n",
    "    sh.worksheet(sheetname).append_rows(to_write)"
   ]
  },
  {
   "cell_type": "code",
   "execution_count": 4,
   "id": "f88edfbd",
   "metadata": {},
   "outputs": [],
   "source": [
    "URLS = ['https://quizlet.com/kr/522520082/korean-idioms-flash-cards/',\n",
    "       'https://quizlet.com/188110920/everyday-korean-idioms-flash-cards/',\n",
    "       'https://quizlet.com/557032830/korean-idioms-flash-cards/',\n",
    "       'https://quizlet.com/610629931/korean-idioms-flash-cards/', \n",
    "       'https://quizlet.com/674111879/korean-idioms-flash-cards/', \n",
    "       'https://quizlet.com/530092028/korean-idioms-flash-cards/', \n",
    "       'https://quizlet.com/30691219/korean-idioms-flash-cards/',\n",
    "       'https://quizlet.com/ru/714305857/korean-idioms-flash-cards/',\n",
    "       ]"
   ]
  },
  {
   "cell_type": "code",
   "execution_count": 5,
   "id": "cc35e9a8",
   "metadata": {},
   "outputs": [],
   "source": [
    "sajasangeo = ['https://quizlet.com/gb/524126993/%EC%82%AC%EC%9E%90%EC%84%B1%EC%96%B4-flash-cards/',\n",
    "             'https://quizlet.com/44351272/%EC%82%AC%EC%9E%90%EC%84%B1%EC%96%B4-flash-cards/',\n",
    "             'https://quizlet.com/kr/555960251/atomy-%EC%82%AC%EC%9E%90%EC%84%B1%EC%96%B4-flash-cards/',\n",
    "             'https://quizlet.com/24559972/topik-advanced-%EC%82%AC%EC%9E%90%EC%84%B1%EC%96%B4-flash-cards/',\n",
    "             ]"
   ]
  },
  {
   "cell_type": "code",
   "execution_count": 6,
   "id": "081858ef",
   "metadata": {},
   "outputs": [],
   "source": [
    "sajasangeo_brackets = ['https://quizlet.com/613767034/%EC%82%AC%EC%9E%90%EC%84%B1%EC%96%B4-flash-cards/',\n",
    "                      'https://quizlet.com/604076855/%EC%82%AC%EC%9E%90%EC%84%B1%EC%96%B4-flash-cards/', \n",
    "                      'https://quizlet.com/643381448/%EC%82%AC%EC%9E%90%EC%84%B1%EC%96%B4-flash-cards/', \n",
    "                      'https://quizlet.com/583247963/%EC%82%AC%EC%9E%90%EC%84%B1%EC%96%B4-flash-cards/',\n",
    "                      ]"
   ]
  },
  {
   "cell_type": "code",
   "execution_count": 20,
   "id": "c72f726b",
   "metadata": {},
   "outputs": [],
   "source": [
    "for url in URLS:\n",
    "    qp = QuizletParser3(url)\n",
    "    gsheets_writer(qp.get_flashcards(), 'ko-en')\n",
    "    gsheets_writer(qp.dropped, 'dropped')"
   ]
  },
  {
   "cell_type": "code",
   "execution_count": 7,
   "id": "faaaae00",
   "metadata": {},
   "outputs": [],
   "source": [
    "def omit_brackets(text:str) -> str:\n",
    "    regexp = r'([^()]*)(\\(.*?\\))?'\n",
    "    m = re.match(regexp, text)\n",
    "    return m.group(1)"
   ]
  },
  {
   "cell_type": "code",
   "execution_count": 8,
   "id": "d69223f2",
   "metadata": {},
   "outputs": [],
   "source": [
    "def character_meaning(text:str) -> tuple:\n",
    "    splitted = text.split('.')\n",
    "    literal = splitted[0].strip()\n",
    "    figur = splitted[1].strip()\n",
    "    return figur, literal"
   ]
  },
  {
   "cell_type": "code",
   "execution_count": 28,
   "id": "7fb94502",
   "metadata": {},
   "outputs": [],
   "source": [
    "for url in sajasangeo:\n",
    "    qp = QuizletParser3(url)\n",
    "    gsheets_writer(qp.get_flashcards(), 'ko-en')\n",
    "    gsheets_writer(qp.dropped, 'dropped')"
   ]
  },
  {
   "cell_type": "code",
   "execution_count": 29,
   "id": "ef048d17",
   "metadata": {},
   "outputs": [],
   "source": [
    "for url in sajasangeo_brackets:\n",
    "    qp = QuizletParser3(url)\n",
    "    gsheets_writer(qp.get_flashcards(phrase_parser=omit_brackets), 'ko-en')\n",
    "    gsheets_writer(qp.dropped, 'dropped')"
   ]
  },
  {
   "cell_type": "code",
   "execution_count": 8,
   "id": "63da66d0",
   "metadata": {},
   "outputs": [],
   "source": [
    "ru = ['https://quizlet.com/kr/234657270/Корейские-идиомы-flash-cards/',\n",
    "     'https://quizlet.com/118205116/Корейские-идиомы-flash-cards/',\n",
    "     'https://quizlet.com/265701684/korean-idioms-100-part-1-1-33-flash-cards/',\n",
    "     'https://quizlet.com/ru/542201869/%D0%9A%D0%BE%D1%80%D0%B5%D0%B9%D1%81%D0%BA%D0%B8%D0%B5-%D1%84%D1%80%D0%B0%D0%B7%D0%B5%D0%BE%D0%BB%D0%BE%D0%B3%D0%B8%D0%B7%D0%BC%D1%8B-%D0%B8-%D0%BF%D0%BE%D1%81%D0%BB%D0%BE%D0%B2%D0%B8%D1%86%D1%8B-flash-cards/',\n",
    "     ]"
   ]
  },
  {
   "cell_type": "code",
   "execution_count": 9,
   "id": "c86041f3",
   "metadata": {},
   "outputs": [],
   "source": [
    "for url in ru:\n",
    "    qp = QuizletParser3(url)\n",
    "    gsheets_writer(qp.get_flashcards(), 'ko-ru')\n",
    "    gsheets_writer(qp.dropped, 'dropped')"
   ]
  },
  {
   "cell_type": "code",
   "execution_count": 9,
   "id": "2f2b51c9",
   "metadata": {},
   "outputs": [],
   "source": [
    "missed_url = 'https://quizlet.com/ru/714305857/korean-idioms-flash-cards/'\n",
    "qp = QuizletParser3(missed_url)\n",
    "gsheets_writer(qp.get_flashcards(), 'ko-en')\n",
    "gsheets_writer(qp.dropped, 'dropped')"
   ]
  }
 ],
 "metadata": {
  "kernelspec": {
   "display_name": "Python 3 (ipykernel)",
   "language": "python",
   "name": "python3"
  },
  "language_info": {
   "codemirror_mode": {
    "name": "ipython",
    "version": 3
   },
   "file_extension": ".py",
   "mimetype": "text/x-python",
   "name": "python",
   "nbconvert_exporter": "python",
   "pygments_lexer": "ipython3",
   "version": "3.9.12"
  }
 },
 "nbformat": 4,
 "nbformat_minor": 5
}
